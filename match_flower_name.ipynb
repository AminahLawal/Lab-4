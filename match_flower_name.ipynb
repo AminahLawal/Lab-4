{
 "cells": [
  {
   "cell_type": "code",
   "execution_count": 5,
   "metadata": {},
   "outputs": [
    {
     "name": "stdout",
     "output_type": "stream",
     "text": [
      "Enter your First [space] Last name only: bash cash\n",
      "Unique flower name with the first letter: Bellflower\n"
     ]
    }
   ],
   "source": [
    "#For the following practice question you will need to write code in Python in the workspace below. This will allow you to practice the concepts discussed in the Scripting lesson, such as reading and writing files. You will see some older concepts too, but again, we have them there to review and reinforce your understanding of those concepts.\n",
    "\n",
    "#Question: Create a function that opens the flowers.txt, reads every line in it, and saves it as a dictionary. The main (separate) function should take user input (user's first name and last name) and parse the user input to identify the first letter of the first name. It should then use it to print the flower name with the same first letter (from dictionary created in the first function).\n",
    "\n",
    "#Sample Output:\n",
    "\n",
    "#>>> Enter your First [space] Last name only: Bill Newman\n",
    "#>>> Unique flower name with the first letter: Bellflower\n",
    "\n",
    "# Write your code here\n",
    "\n",
    "# HINT: create a dictionary from flowers.txt\n",
    "\n",
    "# HINT: create a function\n",
    "# function that creates a flower_dictionary from filename\n",
    "def create_flowerdict(filename):\n",
    "    flower_dict = {}\n",
    "    with open(filename) as flow :\n",
    "        for line in flow:\n",
    "            flower_f = line.split(\": \")[0].lower() \n",
    "            flower = line.split(\": \")[1].strip()\n",
    "            flower_dict[flower_f] = flower\n",
    "    return flower_dict\n",
    "\n",
    "def main(): \n",
    "    flower_dt = create_flowerdict('flowers.txt')\n",
    "    flower_full = input(\"Enter your First [space] Last name only: \")\n",
    "    flower_first = flower_full[0].lower()\n",
    "    flower_last = flower_first[0]\n",
    "    print(\"Unique flower name with the first letter: {}\".format(flower_dt[flower_last]))\n",
    "\n",
    "main()\n"
   ]
  },
  {
   "cell_type": "code",
   "execution_count": null,
   "metadata": {},
   "outputs": [],
   "source": []
  },
  {
   "cell_type": "code",
   "execution_count": null,
   "metadata": {},
   "outputs": [],
   "source": []
  }
 ],
 "metadata": {
  "kernelspec": {
   "display_name": "Python 3",
   "language": "python",
   "name": "python3"
  },
  "language_info": {
   "codemirror_mode": {
    "name": "ipython",
    "version": 3
   },
   "file_extension": ".py",
   "mimetype": "text/x-python",
   "name": "python",
   "nbconvert_exporter": "python",
   "pygments_lexer": "ipython3",
   "version": "3.7.4"
  }
 },
 "nbformat": 4,
 "nbformat_minor": 2
}
